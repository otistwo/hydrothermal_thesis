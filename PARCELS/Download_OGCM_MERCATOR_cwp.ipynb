{
 "cells": [
  {
   "cell_type": "markdown",
   "id": "932c0321",
   "metadata": {},
   "source": [
    "# Introduction"
   ]
  },
  {
   "cell_type": "markdown",
   "id": "c42c1387",
   "metadata": {},
   "source": [
    "This script is intended to download MERCATOR data via OpenDAP"
   ]
  },
  {
   "cell_type": "code",
   "execution_count": 1,
   "id": "efc76e33",
   "metadata": {},
   "outputs": [],
   "source": [
    "#Import packages\n",
    "import netCDF4\n",
    "from netCDF4 import Dataset,num2date \n",
    "import numpy as np\n",
    "import xarray as xr\n",
    "import datetime\n",
    "import pandas as pd\n",
    "import matplotlib.pyplot as plt\n",
    "\n",
    "import requests as rq\n",
    "\n",
    "import pydap #To install pydap I had to use $ conda install -c conda-forge pydap\n",
    "import pydap.client\n",
    "\n",
    "import getpass\n",
    "\n",
    "import os\n",
    "\n",
    "import time"
   ]
  },
  {
   "cell_type": "markdown",
   "id": "deedba9a",
   "metadata": {},
   "source": [
    "# Set the extent"
   ]
  },
  {
   "cell_type": "code",
   "execution_count": 3,
   "id": "406422f9",
   "metadata": {},
   "outputs": [],
   "source": [
    "\n",
    "#Temporal extent of 10 years\n",
    "\n",
    "ldate = pd.date_range(start=\"19961229\",end=\"19971229\",freq=\"D\") \n"
   ]
  },
  {
   "cell_type": "markdown",
   "id": "0cbf11ce",
   "metadata": {},
   "source": [
    "# Download MERCATOR netcdfs"
   ]
  },
  {
   "cell_type": "markdown",
   "id": "522b56cc",
   "metadata": {},
   "source": [
    "You must first set up an account and request access to an ocean product with MERCATOR in order to receive authorisation as well as a USERNAME and PASSWORD"
   ]
  },
  {
   "cell_type": "markdown",
   "id": "7e8b8dfd",
   "metadata": {},
   "source": [
    "Following guide at https://tds.mercator-ocean.fr/userguide/user_guide.html\n",
    "\n",
    "A key instruction in this guide is \"If you encounter timeout problems, please try to split your data retrieval requests over time\"\n",
    "\n",
    "To avoid timeouts I download each variable spereately (e.g. U,V,W) as well as splitting them into multiple .nc files across time and depth.\n"
   ]
  },
  {
   "cell_type": "markdown",
   "id": "c5d90fdd",
   "metadata": {},
   "source": [
    "\n",
    "\n",
    "-You have to select a dataset and get the opendap adress which look like : '''http://tds.mercator-ocean.fr/thredds/dodsC/psy4v3r1-hourly-gridT'''\n",
    "-Copy the address from the page that contains:\n",
    "\n",
    "\"Access: 1. OPENDAP:\" (e.g. '/thredds/dodsC/glorys12v1-free-daily-gridW')\n",
    "\n"
   ]
  },
  {
   "cell_type": "markdown",
   "id": "4357f569",
   "metadata": {},
   "source": [
    "## Download 'static files' \n",
    "\n",
    "For information on these static files visit https://www.mercator-ocean.eu/static-files-description/"
   ]
  },
  {
   "cell_type": "code",
   "execution_count": 5,
   "id": "69f1abac",
   "metadata": {},
   "outputs": [],
   "source": [
    "session = rq.Session()\n",
    "session.auth = (\"INSERT_USERNAME\",\"INSERT_PASSWORD\")\n",
    "\n",
    "#Location of mask static file netcdf        \n",
    "url = 'http://tds.mercator-ocean.fr/thredds/dodsC/psy4v3r1/global-analysis-forecast-phy-001-024-pgnstatics/PSY4V3R1_mask.nc'\n",
    "store = xr.backends.PydapDataStore.open(url,session = session)\n",
    "mask = xr.open_dataset(store)\n",
    "\n",
    "#Location of mesh_hgr static file netcdf        \n",
    "url = 'http://tds.mercator-ocean.fr/thredds/dodsC/psy4v3r1/global-analysis-forecast-phy-001-024-pgnstatics/PSY4V3R1_mesh_hgr.nc'\n",
    "store = xr.backends.PydapDataStore.open(url,session = session)\n",
    "mesh_hgr = xr.open_dataset(store)\n",
    "\n",
    "#Location of mesh_zgr static file netcdf        \n",
    "url = 'http://tds.mercator-ocean.fr/thredds/dodsC/psy4v3r1/global-analysis-forecast-phy-001-024-pgnstatics/PSY4V3R1_mesh_zgr.nc'\n",
    "store = xr.backends.PydapDataStore.open(url,session = session)\n",
    "mesh_zgr = xr.open_dataset(store)\n",
    "\n",
    "\n"
   ]
  },
  {
   "cell_type": "markdown",
   "id": "0a83ae5e",
   "metadata": {},
   "source": [
    "### Mask"
   ]
  },
  {
   "cell_type": "code",
   "execution_count": 6,
   "id": "f8e75df6",
   "metadata": {},
   "outputs": [
    {
     "data": {
      "text/plain": [
       "<matplotlib.collections.PolyCollection at 0x7f4c47756748>"
      ]
     },
     "execution_count": 6,
     "metadata": {},
     "output_type": "execute_result"
    },
    {
     "data": {
      "image/png": "[encoded data removed]",
      "text/plain": [
       "<Figure size 432x288 with 1 Axes>"
      ]
     },
     "metadata": {
      "needs_background": "light"
     },
     "output_type": "display_data"
    }
   ],
   "source": [
    "plt.pcolor(mask.tmask[0,0,:,:] )"
   ]
  },
  {
   "cell_type": "markdown",
   "id": "3a1460fe",
   "metadata": {},
   "source": [
    "Based on the **above global landmask** selext the x and y to slice the data by (set the extent). The MERCATOR guide recommends slicing by a defined lat. and lon. but I have found that this slices the velocity (U,V,W) at different indexes resulting in a combination that confuses PARCELS."
   ]
  },
  {
   "cell_type": "code",
   "execution_count": 7,
   "id": "82cb08e7",
   "metadata": {},
   "outputs": [
    {
     "data": {
      "text/plain": [
       "<matplotlib.collections.PolyCollection at 0x7f4c3ffe27b8>"
      ]
     },
     "execution_count": 7,
     "metadata": {},
     "output_type": "execute_result"
    },
    {
     "data": {
      "image/png": "[encoded data removed]",
      "text/plain": [
       "<Figure size 432x288 with 1 Axes>"
      ]
     },
     "metadata": {
      "needs_background": "light"
     },
     "output_type": "display_data"
    }
   ],
   "source": [
    "cwp_mask = mask.isel({'x':slice(800,1500),'y':slice(1000,1700)})\n",
    "plt.pcolor(cwp_mask.tmask[0,0,:,:] )"
   ]
  },
  {
   "cell_type": "markdown",
   "id": "ba0ba5a8",
   "metadata": {},
   "source": [
    "### Download Static Files"
   ]
  },
  {
   "cell_type": "code",
   "execution_count": 8,
   "id": "86bb5da3",
   "metadata": {},
   "outputs": [
    {
     "name": "stdout",
     "output_type": "stream",
     "text": [
      "File exists. Skipping.\n"
     ]
    }
   ],
   "source": [
    "\n",
    "cwp_mask = mask.isel({'x':slice(800,1500),'y':slice(1000,1700)})\n",
    "\n",
    "path  = \"../MERCATOR_cwp/glorys12v1_p_mask.nc\"\n",
    "\n",
    "if os.path.exists(path):\n",
    "    print(\"File exists. Skipping.\")\n",
    "else:\n",
    "    cwp_mask.to_netcdf(path)\n"
   ]
  },
  {
   "cell_type": "markdown",
   "id": "178f473a",
   "metadata": {},
   "source": [
    "### Mesh"
   ]
  },
  {
   "cell_type": "code",
   "execution_count": 9,
   "id": "2896a5aa",
   "metadata": {},
   "outputs": [
    {
     "name": "stdout",
     "output_type": "stream",
     "text": [
      "File exists. Skipping.\n"
     ]
    }
   ],
   "source": [
    "\n",
    "cwp_hgr = mesh_hgr.isel({'x':slice(800,1500),'y':slice(1000,1700)})\n",
    "\n",
    "path  = \"../MERCATOR_cwp/glorys12v1_p_hgr.nc\"\n",
    "\n",
    "if os.path.exists(path):\n",
    "    print(\"File exists. Skipping.\")\n",
    "else:\n",
    "    cwp_hgr.to_netcdf(path)"
   ]
  },
  {
   "cell_type": "code",
   "execution_count": 10,
   "id": "c03c5633",
   "metadata": {},
   "outputs": [
    {
     "name": "stdout",
     "output_type": "stream",
     "text": [
      "File exists. Skipping.\n"
     ]
    }
   ],
   "source": [
    "\n",
    "\n",
    "cwp_zgr = mesh_zgr.isel({'x':slice(800,1500),'y':slice(1000,1700)})\n",
    "\n",
    "path  = \"../MERCATOR_cwp/glorys12v1_p_zgr.nc\"\n",
    "\n",
    "if os.path.exists(path):\n",
    "    print(\"File exists. Skipping.\")\n",
    "else:\n",
    "    cwp_zgr.to_netcdf(path)"
   ]
  },
  {
   "cell_type": "markdown",
   "id": "dddc1e5a",
   "metadata": {},
   "source": [
    "## Download Variable files (velocities)"
   ]
  },
  {
   "cell_type": "code",
   "execution_count": 11,
   "id": "0a3f6f72",
   "metadata": {},
   "outputs": [
    {
     "data": {
      "text/html": [
       "<div><svg style=\"position: absolute; width: 0; height: 0; overflow: hidden\">\n",
       "<defs>\n",
       "<symbol id=\"icon-database\" viewBox=\"0 0 32 32\">\n",
       "<path d=\"M16 0c-8.837 0-16 2.239-16 5v4c0 2.761 7.163 5 16 5s16-2.239 16-5v-4c0-2.761-7.163-5-16-5z\"></path>\n",
       "<path d=\"M16 17c-8.837 0-16-2.239-16-5v6c0 2.761 7.163 5 16 5s16-2.239 16-5v-6c0 2.761-7.163 5-16 5z\"></path>\n",
       "<path d=\"M16 26c-8.837 0-16-2.239-16-5v6c0 2.761 7.163 5 16 5s16-2.239 16-5v-6c0 2.761-7.163 5-16 5z\"></path>\n",
       "</symbol>\n",
       "<symbol id=\"icon-file-text2\" viewBox=\"0 0 32 32\">\n",
       "<path d=\"M28.681 7.159c-0.694-0.947-1.662-2.053-2.724-3.116s-2.169-2.030-3.116-2.724c-1.612-1.182-2.393-1.319-2.841-1.319h-15.5c-1.378 0-2.5 1.121-2.5 2.5v27c0 1.378 1.122 2.5 2.5 2.5h23c1.378 0 2.5-1.122 2.5-2.5v-19.5c0-0.448-0.137-1.23-1.319-2.841zM24.543 5.457c0.959 0.959 1.712 1.825 2.268 2.543h-4.811v-4.811c0.718 0.556 1.584 1.309 2.543 2.268zM28 29.5c0 0.271-0.229 0.5-0.5 0.5h-23c-0.271 0-0.5-0.229-0.5-0.5v-27c0-0.271 0.229-0.5 0.5-0.5 0 0 15.499-0 15.5 0v7c0 0.552 0.448 1 1 1h7v19.5z\"></path>\n",
       "<path d=\"M23 26h-14c-0.552 0-1-0.448-1-1s0.448-1 1-1h14c0.552 0 1 0.448 1 1s-0.448 1-1 1z\"></path>\n",
       "<path d=\"M23 22h-14c-0.552 0-1-0.448-1-1s0.448-1 1-1h14c0.552 0 1 0.448 1 1s-0.448 1-1 1z\"></path>\n",
       "<path d=\"M23 18h-14c-0.552 0-1-0.448-1-1s0.448-1 1-1h14c0.552 0 1 0.448 1 1s-0.448 1-1 1z\"></path>\n",
       "</symbol>\n",
       "</defs>\n",
       "</svg>\n",
       "<style>/* CSS stylesheet for displaying xarray objects in jupyterlab.\n",
       " *\n",
       " */\n",
       "\n",
       ":root {\n",
       "  --xr-font-color0: var(--jp-content-font-color0, rgba(0, 0, 0, 1));\n",
       "  --xr-font-color2: var(--jp-content-font-color2, rgba(0, 0, 0, 0.54));\n",
       "  --xr-font-color3: var(--jp-content-font-color3, rgba(0, 0, 0, 0.38));\n",
       "  --xr-border-color: var(--jp-border-color2, #e0e0e0);\n",
       "  --xr-disabled-color: var(--jp-layout-color3, #bdbdbd);\n",
       "  --xr-background-color: var(--jp-layout-color0, white);\n",
       "  --xr-background-color-row-even: var(--jp-layout-color1, white);\n",
       "  --xr-background-color-row-odd: var(--jp-layout-color2, #eeeeee);\n",
       "}\n",
       "\n",
       "html[theme=dark],\n",
       "body.vscode-dark {\n",
       "  --xr-font-color0: rgba(255, 255, 255, 1);\n",
       "  --xr-font-color2: rgba(255, 255, 255, 0.54);\n",
       "  --xr-font-color3: rgba(255, 255, 255, 0.38);\n",
       "  --xr-border-color: #1F1F1F;\n",
       "  --xr-disabled-color: #515151;\n",
       "  --xr-background-color: #111111;\n",
       "  --xr-background-color-row-even: #111111;\n",
       "  --xr-background-color-row-odd: #313131;\n",
       "}\n",
       "\n",
       ".xr-wrap {\n",
       "  display: block !important;\n",
       "  min-width: 300px;\n",
       "  max-width: 700px;\n",
       "}\n",
       "\n",
       ".xr-text-repr-fallback {\n",
       "  /* fallback to plain text repr when CSS is not injected (untrusted notebook) */\n",
       "  display: none;\n",
       "}\n",
       "\n",
       ".xr-header {\n",
       "  padding-top: 6px;\n",
       "  padding-bottom: 6px;\n",
       "  margin-bottom: 4px;\n",
       "  border-bottom: solid 1px var(--xr-border-color);\n",
       "}\n",
       "\n",
       ".xr-header > div,\n",
       ".xr-header > ul {\n",
       "  display: inline;\n",
       "  margin-top: 0;\n",
       "  margin-bottom: 0;\n",
       "}\n",
       "\n",
       ".xr-obj-type,\n",
       ".xr-array-name {\n",
       "  margin-left: 2px;\n",
       "  margin-right: 10px;\n",
       "}\n",
       "\n",
       ".xr-obj-type {\n",
       "  color: var(--xr-font-color2);\n",
       "}\n",
       "\n",
       ".xr-sections {\n",
       "  padding-left: 0 !important;\n",
       "  display: grid;\n",
       "  grid-template-columns: 150px auto auto 1fr 20px 20px;\n",
       "}\n",
       "\n",
       ".xr-section-item {\n",
       "  display: contents;\n",
       "}\n",
       "\n",
       ".xr-section-item input {\n",
       "  display: none;\n",
       "}\n",
       "\n",
       ".xr-section-item input + label {\n",
       "  color: var(--xr-disabled-color);\n",
       "}\n",
       "\n",
       ".xr-section-item input:enabled + label {\n",
       "  cursor: pointer;\n",
       "  color: var(--xr-font-color2);\n",
       "}\n",
       "\n",
       ".xr-section-item input:enabled + label:hover {\n",
       "  color: var(--xr-font-color0);\n",
       "}\n",
       "\n",
       ".xr-section-summary {\n",
       "  grid-column: 1;\n",
       "  color: var(--xr-font-color2);\n",
       "  font-weight: 500;\n",
       "}\n",
       "\n",
       ".xr-section-summary > span {\n",
       "  display: inline-block;\n",
       "  padding-left: 0.5em;\n",
       "}\n",
       "\n",
       ".xr-section-summary-in:disabled + label {\n",
       "  color: var(--xr-font-color2);\n",
       "}\n",
       "\n",
       ".xr-section-summary-in + label:before {\n",
       "  display: inline-block;\n",
       "  content: '►';\n",
       "  font-size: 11px;\n",
       "  width: 15px;\n",
       "  text-align: center;\n",
       "}\n",
       "\n",
       ".xr-section-summary-in:disabled + label:before {\n",
       "  color: var(--xr-disabled-color);\n",
       "}\n",
       "\n",
       ".xr-section-summary-in:checked + label:before {\n",
       "  content: '▼';\n",
       "}\n",
       "\n",
       ".xr-section-summary-in:checked + label > span {\n",
       "  display: none;\n",
       "}\n",
       "\n",
       ".xr-section-summary,\n",
       ".xr-section-inline-details {\n",
       "  padding-top: 4px;\n",
       "  padding-bottom: 4px;\n",
       "}\n",
       "\n",
       ".xr-section-inline-details {\n",
       "  grid-column: 2 / -1;\n",
       "}\n",
       "\n",
       ".xr-section-details {\n",
       "  display: none;\n",
       "  grid-column: 1 / -1;\n",
       "  margin-bottom: 5px;\n",
       "}\n",
       "\n",
       ".xr-section-summary-in:checked ~ .xr-section-details {\n",
       "  display: contents;\n",
       "}\n",
       "\n",
       ".xr-array-wrap {\n",
       "  grid-column: 1 / -1;\n",
       "  display: grid;\n",
       "  grid-template-columns: 20px auto;\n",
       "}\n",
       "\n",
       ".xr-array-wrap > label {\n",
       "  grid-column: 1;\n",
       "  vertical-align: top;\n",
       "}\n",
       "\n",
       ".xr-preview {\n",
       "  color: var(--xr-font-color3);\n",
       "}\n",
       "\n",
       ".xr-array-preview,\n",
       ".xr-array-data {\n",
       "  padding: 0 5px !important;\n",
       "  grid-column: 2;\n",
       "}\n",
       "\n",
       ".xr-array-data,\n",
       ".xr-array-in:checked ~ .xr-array-preview {\n",
       "  display: none;\n",
       "}\n",
       "\n",
       ".xr-array-in:checked ~ .xr-array-data,\n",
       ".xr-array-preview {\n",
       "  display: inline-block;\n",
       "}\n",
       "\n",
       ".xr-dim-list {\n",
       "  display: inline-block !important;\n",
       "  list-style: none;\n",
       "  padding: 0 !important;\n",
       "  margin: 0;\n",
       "}\n",
       "\n",
       ".xr-dim-list li {\n",
       "  display: inline-block;\n",
       "  padding: 0;\n",
       "  margin: 0;\n",
       "}\n",
       "\n",
       ".xr-dim-list:before {\n",
       "  content: '(';\n",
       "}\n",
       "\n",
       ".xr-dim-list:after {\n",
       "  content: ')';\n",
       "}\n",
       "\n",
       ".xr-dim-list li:not(:last-child):after {\n",
       "  content: ',';\n",
       "  padding-right: 5px;\n",
       "}\n",
       "\n",
       ".xr-has-index {\n",
       "  font-weight: bold;\n",
       "}\n",
       "\n",
       ".xr-var-list,\n",
       ".xr-var-item {\n",
       "  display: contents;\n",
       "}\n",
       "\n",
       ".xr-var-item > div,\n",
       ".xr-var-item label,\n",
       ".xr-var-item > .xr-var-name span {\n",
       "  background-color: var(--xr-background-color-row-even);\n",
       "  margin-bottom: 0;\n",
       "}\n",
       "\n",
       ".xr-var-item > .xr-var-name:hover span {\n",
       "  padding-right: 5px;\n",
       "}\n",
       "\n",
       ".xr-var-list > li:nth-child(odd) > div,\n",
       ".xr-var-list > li:nth-child(odd) > label,\n",
       ".xr-var-list > li:nth-child(odd) > .xr-var-name span {\n",
       "  background-color: var(--xr-background-color-row-odd);\n",
       "}\n",
       "\n",
       ".xr-var-name {\n",
       "  grid-column: 1;\n",
       "}\n",
       "\n",
       ".xr-var-dims {\n",
       "  grid-column: 2;\n",
       "}\n",
       "\n",
       ".xr-var-dtype {\n",
       "  grid-column: 3;\n",
       "  text-align: right;\n",
       "  color: var(--xr-font-color2);\n",
       "}\n",
       "\n",
       ".xr-var-preview {\n",
       "  grid-column: 4;\n",
       "}\n",
       "\n",
       ".xr-var-name,\n",
       ".xr-var-dims,\n",
       ".xr-var-dtype,\n",
       ".xr-preview,\n",
       ".xr-attrs dt {\n",
       "  white-space: nowrap;\n",
       "  overflow: hidden;\n",
       "  text-overflow: ellipsis;\n",
       "  padding-right: 10px;\n",
       "}\n",
       "\n",
       ".xr-var-name:hover,\n",
       ".xr-var-dims:hover,\n",
       ".xr-var-dtype:hover,\n",
       ".xr-attrs dt:hover {\n",
       "  overflow: visible;\n",
       "  width: auto;\n",
       "  z-index: 1;\n",
       "}\n",
       "\n",
       ".xr-var-attrs,\n",
       ".xr-var-data {\n",
       "  display: none;\n",
       "  background-color: var(--xr-background-color) !important;\n",
       "  padding-bottom: 5px !important;\n",
       "}\n",
       "\n",
       ".xr-var-attrs-in:checked ~ .xr-var-attrs,\n",
       ".xr-var-data-in:checked ~ .xr-var-data {\n",
       "  display: block;\n",
       "}\n",
       "\n",
       ".xr-var-data > table {\n",
       "  float: right;\n",
       "}\n",
       "\n",
       ".xr-var-name span,\n",
       ".xr-var-data,\n",
       ".xr-attrs {\n",
       "  padding-left: 25px !important;\n",
       "}\n",
       "\n",
       ".xr-attrs,\n",
       ".xr-var-attrs,\n",
       ".xr-var-data {\n",
       "  grid-column: 1 / -1;\n",
       "}\n",
       "\n",
       "dl.xr-attrs {\n",
       "  padding: 0;\n",
       "  margin: 0;\n",
       "  display: grid;\n",
       "  grid-template-columns: 125px auto;\n",
       "}\n",
       "\n",
       ".xr-attrs dt,\n",
       ".xr-attrs dd {\n",
       "  padding: 0;\n",
       "  margin: 0;\n",
       "  float: left;\n",
       "  padding-right: 10px;\n",
       "  width: auto;\n",
       "}\n",
       "\n",
       ".xr-attrs dt {\n",
       "  font-weight: normal;\n",
       "  grid-column: 1;\n",
       "}\n",
       "\n",
       ".xr-attrs dt:hover span {\n",
       "  display: inline-block;\n",
       "  background: var(--xr-background-color);\n",
       "  padding-right: 10px;\n",
       "}\n",
       "\n",
       ".xr-attrs dd {\n",
       "  grid-column: 2;\n",
       "  white-space: pre-wrap;\n",
       "  word-break: break-all;\n",
       "}\n",
       "\n",
       ".xr-icon-database,\n",
       ".xr-icon-file-text2 {\n",
       "  display: inline-block;\n",
       "  vertical-align: middle;\n",
       "  width: 1em;\n",
       "  height: 1.5em !important;\n",
       "  stroke-width: 0;\n",
       "  stroke: currentColor;\n",
       "  fill: currentColor;\n",
       "}\n",
       "</style><pre class='xr-text-repr-fallback'>&lt;xarray.Dataset&gt;\n",
       "Dimensions:       (y: 3059, x: 4322, deptht: 50, time_counter: 10015)\n",
       "Coordinates:\n",
       "    nav_lon       (y, x) float32 ...\n",
       "  * deptht        (deptht) float32 0.494 1.541 2.646 ... 5.275e+03 5.728e+03\n",
       "  * x             (x) int32 1 2 3 4 5 6 7 ... 4316 4317 4318 4319 4320 4321 4322\n",
       "  * y             (y) int32 1 2 3 4 5 6 7 ... 3053 3054 3055 3056 3057 3058 3059\n",
       "    nav_lat       (y, x) float32 ...\n",
       "  * time_counter  (time_counter) datetime64[ns] 1992-12-30T12:00:00 ... 2020-...\n",
       "Data variables:\n",
       "    votemper      (time_counter, deptht, y, x) float32 ...\n",
       "Attributes:\n",
       "    Conventions:  CF-1.0\n",
       "    file_name:    GLORYS12V1_y2020m05d30_gridT.nc\n",
       "    institution:  MERCATOR OCEAN\n",
       "    source:       NEMO\n",
       "    TimeStamp:    2021-SEP-02 22:09:45 GMT-0000\n",
       "    references:   http://www.mercator-ocean.eu</pre><div class='xr-wrap' style='display:none'><div class='xr-header'><div class='xr-obj-type'>xarray.Dataset</div></div><ul class='xr-sections'><li class='xr-section-item'><input id='section-16057104-4123-4ed6-8e83-cd58727f9892' class='xr-section-summary-in' type='checkbox' disabled ><label for='section-16057104-4123-4ed6-8e83-cd58727f9892' class='xr-section-summary'  title='Expand/collapse section'>Dimensions:</label><div class='xr-section-inline-details'><ul class='xr-dim-list'><li><span class='xr-has-index'>y</span>: 3059</li><li><span class='xr-has-index'>x</span>: 4322</li><li><span class='xr-has-index'>deptht</span>: 50</li><li><span class='xr-has-index'>time_counter</span>: 10015</li></ul></div><div class='xr-section-details'></div></li><li class='xr-section-item'><input id='section-4906b4aa-478e-4e9b-a930-51a2e09a772a' class='xr-section-summary-in' type='checkbox'  checked><label for='section-4906b4aa-478e-4e9b-a930-51a2e09a772a' class='xr-section-summary' >Coordinates: <span>(6)</span></label><div class='xr-section-inline-details'></div><div class='xr-section-details'><ul class='xr-var-list'><li class='xr-var-item'><div class='xr-var-name'><span>nav_lon</span></div><div class='xr-var-dims'>(y, x)</div><div class='xr-var-dtype'>float32</div><div class='xr-var-preview xr-preview'>...</div><input id='attrs-48e0e404-2494-4bc6-aad6-6495e84b87aa' class='xr-var-attrs-in' type='checkbox' ><label for='attrs-48e0e404-2494-4bc6-aad6-6495e84b87aa' title='Show/Hide attributes'><svg class='icon xr-icon-file-text2'><use xlink:href='#icon-file-text2'></use></svg></label><input id='data-7e9d03a9-1429-414f-bd13-f10a75f1131c' class='xr-var-data-in' type='checkbox'><label for='data-7e9d03a9-1429-414f-bd13-f10a75f1131c' title='Show/Hide data repr'><svg class='icon xr-icon-database'><use xlink:href='#icon-database'></use></svg></label><div class='xr-var-attrs'><dl class='xr-attrs'><dt><span>units :</span></dt><dd>degrees_east</dd><dt><span>valid_min :</span></dt><dd>-179.99998963909385</dd><dt><span>valid_max :</span></dt><dd>180.0</dd><dt><span>long_name :</span></dt><dd>Longitude</dd><dt><span>nav_model :</span></dt><dd>Default grid</dd><dt><span>standard_name :</span></dt><dd>longitude</dd><dt><span>_ChunkSizes :</span></dt><dd>[765, 1081]</dd></dl></div><div class='xr-var-data'><pre>[13220998 values with dtype=float32]</pre></div></li><li class='xr-var-item'><div class='xr-var-name'><span class='xr-has-index'>deptht</span></div><div class='xr-var-dims'>(deptht)</div><div class='xr-var-dtype'>float32</div><div class='xr-var-preview xr-preview'>0.494 1.541 ... 5.275e+03 5.728e+03</div><input id='attrs-a418bdee-8555-4953-a24a-e81e3fb5c6d6' class='xr-var-attrs-in' type='checkbox' ><label for='attrs-a418bdee-8555-4953-a24a-e81e3fb5c6d6' title='Show/Hide attributes'><svg class='icon xr-icon-file-text2'><use xlink:href='#icon-file-text2'></use></svg></label><input id='data-f1e7a7a1-f100-400a-9357-fecb6467e1d4' class='xr-var-data-in' type='checkbox'><label for='data-f1e7a7a1-f100-400a-9357-fecb6467e1d4' title='Show/Hide data repr'><svg class='icon xr-icon-database'><use xlink:href='#icon-database'></use></svg></label><div class='xr-var-attrs'><dl class='xr-attrs'><dt><span>units :</span></dt><dd>m</dd><dt><span>positive :</span></dt><dd>down</dd><dt><span>valid_min :</span></dt><dd>0.4940253794193268</dd><dt><span>valid_max :</span></dt><dd>5727.91650390625</dd><dt><span>long_name :</span></dt><dd>Vertical T levels</dd><dt><span>standard_name :</span></dt><dd>depth</dd><dt><span>axis :</span></dt><dd>Z</dd><dt><span>_ChunkSizes :</span></dt><dd>50</dd></dl></div><div class='xr-var-data'><pre>array([4.940254e-01, 1.541375e+00, 2.645669e+00, 3.819495e+00, 5.078224e+00,\n",
       "       6.440614e+00, 7.929560e+00, 9.572997e+00, 1.140500e+01, 1.346714e+01,\n",
       "       1.581007e+01, 1.849556e+01, 2.159882e+01, 2.521141e+01, 2.944473e+01,\n",
       "       3.443415e+01, 4.034405e+01, 4.737369e+01, 5.576429e+01, 6.580727e+01,\n",
       "       7.785385e+01, 9.232607e+01, 1.097293e+02, 1.306660e+02, 1.558507e+02,\n",
       "       1.861256e+02, 2.224752e+02, 2.660403e+02, 3.181274e+02, 3.802130e+02,\n",
       "       4.539377e+02, 5.410889e+02, 6.435668e+02, 7.633331e+02, 9.023393e+02,\n",
       "       1.062440e+03, 1.245291e+03, 1.452251e+03, 1.684284e+03, 1.941893e+03,\n",
       "       2.225078e+03, 2.533336e+03, 2.865703e+03, 3.220820e+03, 3.597032e+03,\n",
       "       3.992484e+03, 4.405224e+03, 4.833291e+03, 5.274784e+03, 5.727917e+03],\n",
       "      dtype=float32)</pre></div></li><li class='xr-var-item'><div class='xr-var-name'><span class='xr-has-index'>x</span></div><div class='xr-var-dims'>(x)</div><div class='xr-var-dtype'>int32</div><div class='xr-var-preview xr-preview'>1 2 3 4 5 ... 4319 4320 4321 4322</div><input id='attrs-33f2938b-2dcd-4a76-a653-2cba68a3caa2' class='xr-var-attrs-in' type='checkbox' ><label for='attrs-33f2938b-2dcd-4a76-a653-2cba68a3caa2' title='Show/Hide attributes'><svg class='icon xr-icon-file-text2'><use xlink:href='#icon-file-text2'></use></svg></label><input id='data-3fe6e5ac-e9ae-48d4-86ab-90bf36d0954e' class='xr-var-data-in' type='checkbox'><label for='data-3fe6e5ac-e9ae-48d4-86ab-90bf36d0954e' title='Show/Hide data repr'><svg class='icon xr-icon-database'><use xlink:href='#icon-database'></use></svg></label><div class='xr-var-attrs'><dl class='xr-attrs'><dt><span>standard_name :</span></dt><dd>projection_x_coordinate</dd><dt><span>axis :</span></dt><dd>X</dd><dt><span>units :</span></dt><dd>1</dd><dt><span>_ChunkSizes :</span></dt><dd>4322</dd></dl></div><div class='xr-var-data'><pre>array([   1,    2,    3, ..., 4320, 4321, 4322], dtype=int32)</pre></div></li><li class='xr-var-item'><div class='xr-var-name'><span class='xr-has-index'>y</span></div><div class='xr-var-dims'>(y)</div><div class='xr-var-dtype'>int32</div><div class='xr-var-preview xr-preview'>1 2 3 4 5 ... 3056 3057 3058 3059</div><input id='attrs-8d0911c0-961e-4eac-866d-7e2b2ba8e98d' class='xr-var-attrs-in' type='checkbox' ><label for='attrs-8d0911c0-961e-4eac-866d-7e2b2ba8e98d' title='Show/Hide attributes'><svg class='icon xr-icon-file-text2'><use xlink:href='#icon-file-text2'></use></svg></label><input id='data-f9a25d61-d8c2-4c9a-bd03-94d085f16fff' class='xr-var-data-in' type='checkbox'><label for='data-f9a25d61-d8c2-4c9a-bd03-94d085f16fff' title='Show/Hide data repr'><svg class='icon xr-icon-database'><use xlink:href='#icon-database'></use></svg></label><div class='xr-var-attrs'><dl class='xr-attrs'><dt><span>standard_name :</span></dt><dd>projection_y_coordinate</dd><dt><span>axis :</span></dt><dd>Y</dd><dt><span>units :</span></dt><dd>1</dd><dt><span>_ChunkSizes :</span></dt><dd>3059</dd></dl></div><div class='xr-var-data'><pre>array([   1,    2,    3, ..., 3057, 3058, 3059], dtype=int32)</pre></div></li><li class='xr-var-item'><div class='xr-var-name'><span>nav_lat</span></div><div class='xr-var-dims'>(y, x)</div><div class='xr-var-dtype'>float32</div><div class='xr-var-preview xr-preview'>...</div><input id='attrs-c4f807ae-de5a-4d38-aa6f-8078b6f07eda' class='xr-var-attrs-in' type='checkbox' ><label for='attrs-c4f807ae-de5a-4d38-aa6f-8078b6f07eda' title='Show/Hide attributes'><svg class='icon xr-icon-file-text2'><use xlink:href='#icon-file-text2'></use></svg></label><input id='data-f7b9320b-a680-4f58-a319-9d2a5b5adb90' class='xr-var-data-in' type='checkbox'><label for='data-f7b9320b-a680-4f58-a319-9d2a5b5adb90' title='Show/Hide data repr'><svg class='icon xr-icon-database'><use xlink:href='#icon-database'></use></svg></label><div class='xr-var-attrs'><dl class='xr-attrs'><dt><span>units :</span></dt><dd>degrees_north</dd><dt><span>valid_min :</span></dt><dd>-77.0104751586914</dd><dt><span>valid_max :</span></dt><dd>89.95883178710938</dd><dt><span>long_name :</span></dt><dd>Latitude</dd><dt><span>nav_model :</span></dt><dd>Default grid</dd><dt><span>standard_name :</span></dt><dd>latitude</dd><dt><span>_ChunkSizes :</span></dt><dd>[765, 1081]</dd></dl></div><div class='xr-var-data'><pre>[13220998 values with dtype=float32]</pre></div></li><li class='xr-var-item'><div class='xr-var-name'><span class='xr-has-index'>time_counter</span></div><div class='xr-var-dims'>(time_counter)</div><div class='xr-var-dtype'>datetime64[ns]</div><div class='xr-var-preview xr-preview'>1992-12-30T12:00:00 ... 2020-05-...</div><input id='attrs-21e19822-12f3-4f07-865e-6779d9d1ab18' class='xr-var-attrs-in' type='checkbox' ><label for='attrs-21e19822-12f3-4f07-865e-6779d9d1ab18' title='Show/Hide attributes'><svg class='icon xr-icon-file-text2'><use xlink:href='#icon-file-text2'></use></svg></label><input id='data-78fe61b4-6126-4313-9e3d-0a0dc8cb3dc3' class='xr-var-data-in' type='checkbox'><label for='data-78fe61b4-6126-4313-9e3d-0a0dc8cb3dc3' title='Show/Hide data repr'><svg class='icon xr-icon-database'><use xlink:href='#icon-database'></use></svg></label><div class='xr-var-attrs'><dl class='xr-attrs'><dt><span>standard_name :</span></dt><dd>time</dd><dt><span>long_name :</span></dt><dd>Time axis</dd><dt><span>axis :</span></dt><dd>T</dd><dt><span>time_origin :</span></dt><dd>1950-JAN-01 00:00:00</dd><dt><span>_ChunkSizes :</span></dt><dd>1024</dd></dl></div><div class='xr-var-data'><pre>array([&#x27;1992-12-30T12:00:00.000000000&#x27;, &#x27;1992-12-31T12:00:00.000000000&#x27;,\n",
       "       &#x27;1993-01-01T12:00:00.000000000&#x27;, ..., &#x27;2020-05-29T12:00:00.000000000&#x27;,\n",
       "       &#x27;2020-05-30T12:00:00.000000000&#x27;, &#x27;2020-05-31T12:00:00.000000000&#x27;],\n",
       "      dtype=&#x27;datetime64[ns]&#x27;)</pre></div></li></ul></div></li><li class='xr-section-item'><input id='section-51f58880-0a42-435d-8d60-99e8c149b71a' class='xr-section-summary-in' type='checkbox'  checked><label for='section-51f58880-0a42-435d-8d60-99e8c149b71a' class='xr-section-summary' >Data variables: <span>(1)</span></label><div class='xr-section-inline-details'></div><div class='xr-section-details'><ul class='xr-var-list'><li class='xr-var-item'><div class='xr-var-name'><span>votemper</span></div><div class='xr-var-dims'>(time_counter, deptht, y, x)</div><div class='xr-var-dtype'>float32</div><div class='xr-var-preview xr-preview'>...</div><input id='attrs-17280ac8-03d2-473f-8fd1-63335447c91a' class='xr-var-attrs-in' type='checkbox' ><label for='attrs-17280ac8-03d2-473f-8fd1-63335447c91a' title='Show/Hide attributes'><svg class='icon xr-icon-file-text2'><use xlink:href='#icon-file-text2'></use></svg></label><input id='data-c936ad21-056f-42e8-b44c-2ad42e299659' class='xr-var-data-in' type='checkbox'><label for='data-c936ad21-056f-42e8-b44c-2ad42e299659' title='Show/Hide data repr'><svg class='icon xr-icon-database'><use xlink:href='#icon-database'></use></svg></label><div class='xr-var-attrs'><dl class='xr-attrs'><dt><span>units :</span></dt><dd>degree_Celsius</dd><dt><span>valid_min :</span></dt><dd>-20.0</dd><dt><span>valid_max :</span></dt><dd>42.0</dd><dt><span>long_name :</span></dt><dd>Temperature</dd><dt><span>standard_name :</span></dt><dd>sea_water_potential_temperature</dd><dt><span>short_name :</span></dt><dd>votemper</dd><dt><span>online_operation :</span></dt><dd>N/A</dd><dt><span>interval_operation :</span></dt><dd>86400</dd><dt><span>interval_write :</span></dt><dd>86400</dd><dt><span>associate :</span></dt><dd>time_counter deptht nav_lat nav_lon</dd><dt><span>_ChunkSizes :</span></dt><dd>[1, 5, 340, 481]</dd></dl></div><div class='xr-var-data'><pre>[6620414748500 values with dtype=float32]</pre></div></li></ul></div></li><li class='xr-section-item'><input id='section-efdb694a-9e5f-4506-b2f9-659836c075b9' class='xr-section-summary-in' type='checkbox'  checked><label for='section-efdb694a-9e5f-4506-b2f9-659836c075b9' class='xr-section-summary' >Attributes: <span>(6)</span></label><div class='xr-section-inline-details'></div><div class='xr-section-details'><dl class='xr-attrs'><dt><span>Conventions :</span></dt><dd>CF-1.0</dd><dt><span>file_name :</span></dt><dd>GLORYS12V1_y2020m05d30_gridT.nc</dd><dt><span>institution :</span></dt><dd>MERCATOR OCEAN</dd><dt><span>source :</span></dt><dd>NEMO</dd><dt><span>TimeStamp :</span></dt><dd>2021-SEP-02 22:09:45 GMT-0000</dd><dt><span>references :</span></dt><dd>http://www.mercator-ocean.eu</dd></dl></div></li></ul></div></div>"
      ],
      "text/plain": [
       "<xarray.Dataset>\n",
       "Dimensions:       (y: 3059, x: 4322, deptht: 50, time_counter: 10015)\n",
       "Coordinates:\n",
       "    nav_lon       (y, x) float32 ...\n",
       "  * deptht        (deptht) float32 0.494 1.541 2.646 ... 5.275e+03 5.728e+03\n",
       "  * x             (x) int32 1 2 3 4 5 6 7 ... 4316 4317 4318 4319 4320 4321 4322\n",
       "  * y             (y) int32 1 2 3 4 5 6 7 ... 3053 3054 3055 3056 3057 3058 3059\n",
       "    nav_lat       (y, x) float32 ...\n",
       "  * time_counter  (time_counter) datetime64[ns] 1992-12-30T12:00:00 ... 2020-...\n",
       "Data variables:\n",
       "    votemper      (time_counter, deptht, y, x) float32 ...\n",
       "Attributes:\n",
       "    Conventions:  CF-1.0\n",
       "    file_name:    GLORYS12V1_y2020m05d30_gridT.nc\n",
       "    institution:  MERCATOR OCEAN\n",
       "    source:       NEMO\n",
       "    TimeStamp:    2021-SEP-02 22:09:45 GMT-0000\n",
       "    references:   http://www.mercator-ocean.eu"
      ]
     },
     "execution_count": 11,
     "metadata": {},
     "output_type": "execute_result"
    }
   ],
   "source": [
    "\n",
    "#Access all Temperature data from 'glorys12v1-daily'\n",
    "session = rq.Session()\n",
    "session.auth = (\"INSERT_USERNAME\",\"INSERT_PASSWORD\")\n",
    "url = 'https://tds.mercator-ocean.fr/thredds/dodsC/glorys12v1-daily-gridT'\n",
    "store = xr.backends.PydapDataStore.open(url,session = session)\n",
    "data_T = xr.open_dataset(store)\n",
    "data_T"
   ]
  },
  {
   "cell_type": "code",
   "execution_count": null,
   "id": "dd4f3622",
   "metadata": {},
   "outputs": [],
   "source": []
  },
  {
   "cell_type": "code",
   "execution_count": null,
   "id": "85a5bac8",
   "metadata": {},
   "outputs": [],
   "source": [
    "#Access all W-velocity data from 'glorys12v1-daily'\n",
    "session = rq.Session()\n",
    "session.auth = (\"INSERT_USERNAME\",\"INSERT_PASSWORD\")\n",
    "url = 'https://tds.mercator-ocean.fr/thredds/dodsC/glorys12v1-daily-gridW'\n",
    "store = xr.backends.PydapDataStore.open(url,session = session)\n",
    "data_W = xr.open_dataset(store)"
   ]
  },
  {
   "cell_type": "code",
   "execution_count": 1,
   "id": "d1b90053",
   "metadata": {},
   "outputs": [
    {
     "ename": "NameError",
     "evalue": "name 'xr' is not defined",
     "output_type": "error",
     "traceback": [
      "\u001b[0;31m---------------------------------------------------------------------------\u001b[0m",
      "\u001b[0;31mNameError\u001b[0m                                 Traceback (most recent call last)",
      "\u001b[0;32m<ipython-input-1-35f83eef7145>\u001b[0m in \u001b[0;36m<module>\u001b[0;34m\u001b[0m\n\u001b[1;32m      3\u001b[0m \u001b[0;34m\u001b[0m\u001b[0m\n\u001b[1;32m      4\u001b[0m \u001b[0murl\u001b[0m \u001b[0;34m=\u001b[0m \u001b[0;34m'https://tds.mercator-ocean.fr/thredds/dodsC/glorys12v1-daily-gridU'\u001b[0m\u001b[0;34m\u001b[0m\u001b[0;34m\u001b[0m\u001b[0m\n\u001b[0;32m----> 5\u001b[0;31m \u001b[0mstore\u001b[0m \u001b[0;34m=\u001b[0m \u001b[0mxr\u001b[0m\u001b[0;34m.\u001b[0m\u001b[0mbackends\u001b[0m\u001b[0;34m.\u001b[0m\u001b[0mPydapDataStore\u001b[0m\u001b[0;34m.\u001b[0m\u001b[0mopen\u001b[0m\u001b[0;34m(\u001b[0m\u001b[0murl\u001b[0m\u001b[0;34m,\u001b[0m\u001b[0msession\u001b[0m \u001b[0;34m=\u001b[0m \u001b[0msession\u001b[0m\u001b[0;34m)\u001b[0m\u001b[0;34m\u001b[0m\u001b[0;34m\u001b[0m\u001b[0m\n\u001b[0m\u001b[1;32m      6\u001b[0m \u001b[0mdata_U\u001b[0m \u001b[0;34m=\u001b[0m \u001b[0mxr\u001b[0m\u001b[0;34m.\u001b[0m\u001b[0mopen_dataset\u001b[0m\u001b[0;34m(\u001b[0m\u001b[0mstore\u001b[0m\u001b[0;34m)\u001b[0m\u001b[0;34m\u001b[0m\u001b[0;34m\u001b[0m\u001b[0m\n",
      "\u001b[0;31mNameError\u001b[0m: name 'xr' is not defined"
     ]
    }
   ],
   "source": [
    "#Access all U-velocity data from 'glorys12v1-daily'\n",
    "\n",
    "\n",
    "url = 'https://tds.mercator-ocean.fr/thredds/dodsC/glorys12v1-daily-gridU'\n",
    "store = xr.backends.PydapDataStore.open(url,session = session)\n",
    "data_U = xr.open_dataset(store)"
   ]
  },
  {
   "cell_type": "code",
   "execution_count": null,
   "id": "8054e67d",
   "metadata": {},
   "outputs": [],
   "source": [
    "#Access all V-velocity data from 'glorys12v1-daily'\n",
    "\n",
    "\n",
    "url = 'https://tds.mercator-ocean.fr/thredds/dodsC/glorys12v1-daily-gridV'\n",
    "store = xr.backends.PydapDataStore.open(url,session = session)\n",
    "data_V = xr.open_dataset(store)"
   ]
  },
  {
   "cell_type": "markdown",
   "id": "59dc24d0",
   "metadata": {},
   "source": [
    "## Subset the data \n",
    " \n",
    "by the extent set at the beginning"
   ]
  },
  {
   "cell_type": "markdown",
   "id": "282f72f7",
   "metadata": {},
   "source": []
  },
  {
   "cell_type": "markdown",
   "id": "6dc17483",
   "metadata": {},
   "source": [
    "Here is where the temporal and geographcal extent, defined above, are used to slice the datasets"
   ]
  },
  {
   "cell_type": "code",
   "execution_count": null,
   "id": "fb11a018",
   "metadata": {},
   "outputs": [],
   "source": [
    "cwp_T = data_T.isel({'x':slice(750,1500),'y':slice(1000,1750)}).sel({'time_counter':ldate},method=\"nearest\")\n"
   ]
  },
  {
   "cell_type": "code",
   "execution_count": null,
   "id": "27ed561e",
   "metadata": {},
   "outputs": [],
   "source": [
    "cwp_W = data_W.isel({'x':slice(750,1500),'y':slice(1000,1750)}).sel({'time_counter':ldate},method=\"nearest\")\n"
   ]
  },
  {
   "cell_type": "code",
   "execution_count": null,
   "id": "e4e14496",
   "metadata": {},
   "outputs": [],
   "source": [
    "cwp_U = data_U.isel({'x':slice(750,1500),'y':slice(1000,1750)}).sel({'time_counter':ldate},method=\"nearest\")\n"
   ]
  },
  {
   "cell_type": "code",
   "execution_count": null,
   "id": "190de3b0",
   "metadata": {},
   "outputs": [],
   "source": [
    "cwp_V = data_V.isel({'x':slice(750,1500),'y':slice(1000,1750)}).sel({'time_counter':ldate},method=\"nearest\")\n"
   ]
  },
  {
   "cell_type": "code",
   "execution_count": null,
   "id": "05283b8d",
   "metadata": {},
   "outputs": [],
   "source": [
    "cwp_V"
   ]
  },
  {
   "cell_type": "markdown",
   "id": "56447d86",
   "metadata": {},
   "source": [
    "## Download iteratively for each day timestep\n",
    "\n",
    "The '.groupby' function allows you to select each timestep in the dataset and download them seperately. This is a commonly used format for implimentig PARCELS. However, this often resulted in a timeout."
   ]
  },
  {
   "cell_type": "code",
   "execution_count": null,
   "id": "750941f6",
   "metadata": {},
   "outputs": [],
   "source": [
    "#Subset the dataset by timestep\n",
    "days, datasets = zip(*cwp_T.groupby(\"time_counter\"))\n",
    "\n",
    "#write a list of file names based on the timestep\n",
    "paths = [f\"data/OGCM_MERCATOR//glorys12v1_cwp_{y}_T.nc\" for y in days]\n",
    "        "
   ]
  },
  {
   "cell_type": "code",
   "execution_count": null,
   "id": "f8878f1d",
   "metadata": {},
   "outputs": [],
   "source": [
    "#Save without overwrite\n",
    "\n",
    "for i in len(paths):\n",
    "    time.sleep(10)\n",
    "    if os.path.exists(paths[i]):\n",
    "        print(\"File exists. Skipping.\")\n",
    "    else:\n",
    "    cwp_W.to_netcdf(dataset[i],paths[i])"
   ]
  },
  {
   "cell_type": "markdown",
   "id": "a1328a8c",
   "metadata": {},
   "source": [
    "### W"
   ]
  },
  {
   "cell_type": "code",
   "execution_count": null,
   "id": "600cefdb",
   "metadata": {
    "scrolled": true
   },
   "outputs": [],
   "source": [
    "#Subset the dataset by timestep\n",
    "days, datasets = zip(*cwp_W.groupby(\"time_counter\"))\n",
    "\n",
    "#write a list of file names based on the timestep\n",
    "paths = [f\"data/OGCM_MERCATOR//glorys12v1_cwp_{y}_W.nc\" for y in days]\n",
    "\n",
    "        "
   ]
  },
  {
   "cell_type": "code",
   "execution_count": null,
   "id": "a00298d2",
   "metadata": {},
   "outputs": [],
   "source": [
    "#Save without overwrite\n",
    "\n",
    "for i in len(paths):\n",
    "    time.sleep(10)\n",
    "    if os.path.exists(paths[i]):\n",
    "        print(\"File exists. Skipping.\")\n",
    "    else:\n",
    "    nwp_W.to_netcdf(dataset[i],paths[i])"
   ]
  },
  {
   "cell_type": "markdown",
   "id": "5b0a468d",
   "metadata": {},
   "source": [
    "### U"
   ]
  },
  {
   "cell_type": "code",
   "execution_count": null,
   "id": "e3e56daa",
   "metadata": {},
   "outputs": [],
   "source": [
    "#Subset the dataset by timestep\n",
    "days, datasets = zip(*cwp_U.groupby(\"time_counter\"))\n",
    "\n",
    "#write a list of file names based on the timestep\n",
    "paths = [f\"data/OGCM_MERCATOR//glorys12v1_cwp_{y}_U.nc\" for y in days]\n",
    "\n",
    "        "
   ]
  },
  {
   "cell_type": "code",
   "execution_count": null,
   "id": "4d004299",
   "metadata": {},
   "outputs": [],
   "source": [
    "#Save without overwrite\n",
    "\n",
    "for i in len(paths):\n",
    "    if os.path.exists(paths[i]):\n",
    "        print(\"File exists. Skipping.\")\n",
    "    else:\n",
    "    nwp_W.to_netcdf(dataset[i],paths[i])"
   ]
  },
  {
   "cell_type": "markdown",
   "id": "45a0bb30",
   "metadata": {},
   "source": [
    "### V"
   ]
  },
  {
   "cell_type": "code",
   "execution_count": null,
   "id": "9fb672ec",
   "metadata": {},
   "outputs": [],
   "source": [
    "#Subset the dataset by timestep\n",
    "days, datasets = zip(*cwp_V.groupby(\"time_counter\"))\n",
    "\n",
    "#write a list of file names based on the timestep\n",
    "paths = [f\"data/OGCM_MERCATOR//glorys12v1_cwp_{y}_W.nc\" for y in days]\n",
    "\n",
    "        "
   ]
  },
  {
   "cell_type": "code",
   "execution_count": null,
   "id": "07e8e7e6",
   "metadata": {},
   "outputs": [],
   "source": [
    "#Save without overwrite\n",
    "\n",
    "for i in len(paths):\n",
    "    if os.path.exists(paths[i]):\n",
    "        print(\"File exists. Skipping.\")\n",
    "    else:\n",
    "    nwp_W.to_netcdf(dataset[i],paths[i])"
   ]
  },
  {
   "cell_type": "code",
   "execution_count": null,
   "id": "f4cd641b",
   "metadata": {},
   "outputs": [],
   "source": []
  }
 ],
 "metadata": {
  "kernelspec": {
   "display_name": "Python 3 (ipykernel)",
   "language": "python",
   "name": "python3"
  },
  "language_info": {
   "codemirror_mode": {
    "name": "ipython",
    "version": 3
   },
   "file_extension": ".py",
   "mimetype": "text/x-python",
   "name": "python",
   "nbconvert_exporter": "python",
   "pygments_lexer": "ipython3",
   "version": "3.10.9"
  }
 },
 "nbformat": 4,
 "nbformat_minor": 5
}
